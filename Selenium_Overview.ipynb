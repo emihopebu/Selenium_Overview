{
 "cells": [
  {
   "cell_type": "markdown",
   "metadata": {},
   "source": [
    "### Part 1 - Set Up"
   ]
  },
  {
   "cell_type": "code",
   "execution_count": 1,
   "metadata": {},
   "outputs": [],
   "source": [
    "#relevant packages and modules\n",
    "from selenium import webdriver\n",
    "from selenium.webdriver.common.keys import Keys\n",
    "from selenium.webdriver.common.by import By\n",
    "from selenium.webdriver.chrome.options import Options\n",
    "import time"
   ]
  },
  {
   "cell_type": "code",
   "execution_count": 2,
   "metadata": {},
   "outputs": [],
   "source": [
    "#relevant websites\n",
    "website_1=\"https://www.geekbuying.com/search?keyword=laptop\"\n",
    "website_2=\"http://automationpractice.com/index.php\""
   ]
  },
  {
   "cell_type": "code",
   "execution_count": 3,
   "metadata": {},
   "outputs": [],
   "source": [
    "#initialize chrome \n",
    "driver=webdriver.Chrome('C:\\webdrivers\\chromedriver.exe')\n",
    "#open website\n",
    "driver.get(website_1)\n",
    "#maximize window\n",
    "driver.maximize_window()"
   ]
  },
  {
   "cell_type": "markdown",
   "metadata": {},
   "source": [
    "### Part 2 - Locators "
   ]
  },
  {
   "cell_type": "markdown",
   "metadata": {},
   "source": [
    "##### Xpath - Locator "
   ]
  },
  {
   "cell_type": "code",
   "execution_count": 4,
   "metadata": {},
   "outputs": [],
   "source": [
    "price=driver.find_element_by_xpath('(//li[@class=\"searchResultItem\"]/div/div[3])[1]')"
   ]
  },
  {
   "cell_type": "code",
   "execution_count": 5,
   "metadata": {},
   "outputs": [
    {
     "name": "stdout",
     "output_type": "stream",
     "text": [
      "COL$1445326.90\n"
     ]
    }
   ],
   "source": [
    "#print out price\n",
    "print(price.text)"
   ]
  },
  {
   "cell_type": "code",
   "execution_count": 6,
   "metadata": {},
   "outputs": [],
   "source": [
    "prices=driver.find_elements_by_xpath('//li[@class=\"searchResultItem\"]/div/div[3]')"
   ]
  },
  {
   "cell_type": "code",
   "execution_count": 7,
   "metadata": {},
   "outputs": [
    {
     "data": {
      "text/plain": [
       "40"
      ]
     },
     "execution_count": 7,
     "metadata": {},
     "output_type": "execute_result"
    }
   ],
   "source": [
    "len(prices)"
   ]
  },
  {
   "cell_type": "code",
   "execution_count": 8,
   "metadata": {},
   "outputs": [
    {
     "name": "stdout",
     "output_type": "stream",
     "text": [
      "COL$1445326.90\n",
      "COL$236905.82\n",
      "COL$118433.16\n",
      "COL$118433.16\n",
      "COL$39451.39\n",
      "COL$47349.57\n",
      "COL$39451.39\n",
      "COL$98687.72\n",
      "COL$2882795.11\n",
      "COL$197414.93\n",
      "COL$248753.08\n",
      "COL$106585.90\n",
      "COL$197414.93\n",
      "COL$134229.52\n",
      "COL$55247.75\n",
      "COL$252702.17\n",
      "COL$252702.17\n",
      "COL$67095.01\n",
      "COL$118433.16\n",
      "COL$106585.90\n",
      "COL$118433.16\n",
      "COL$47349.57\n",
      "COL$39451.39\n",
      "COL$98687.72\n",
      "COL$126331.34\n",
      "COL$98687.72\n",
      "COL$1579595.91\n",
      "COL$1658577.68\n",
      "COL$197414.93\n",
      "COL$1461123.25\n",
      "COL$2843304.23\n",
      "COL$2685340.69\n",
      "COL$5726138.83\n",
      "COL$5805120.60\n",
      "COL$5449702.64\n",
      "COL$4580903.17\n",
      "COL$4738866.71\n",
      "COL$57617.20\n",
      "COL$134229.52\n",
      "COL$4738866.71\n"
     ]
    }
   ],
   "source": [
    "#print out all price points\n",
    "for p in prices:\n",
    "    print(p.text)"
   ]
  },
  {
   "cell_type": "code",
   "execution_count": 9,
   "metadata": {},
   "outputs": [
    {
     "data": {
      "text/plain": [
       "list"
      ]
     },
     "execution_count": 9,
     "metadata": {},
     "output_type": "execute_result"
    }
   ],
   "source": [
    "type(prices)"
   ]
  },
  {
   "cell_type": "markdown",
   "metadata": {},
   "source": [
    "##### Class Name - Locator"
   ]
  },
  {
   "cell_type": "code",
   "execution_count": 10,
   "metadata": {},
   "outputs": [],
   "source": [
    "names=driver.find_elements_by_class_name('name')"
   ]
  },
  {
   "cell_type": "code",
   "execution_count": 11,
   "metadata": {},
   "outputs": [
    {
     "data": {
      "text/plain": [
       "40"
      ]
     },
     "execution_count": 11,
     "metadata": {},
     "output_type": "execute_result"
    }
   ],
   "source": [
    "len(names)"
   ]
  },
  {
   "cell_type": "code",
   "execution_count": 12,
   "metadata": {},
   "outputs": [
    {
     "data": {
      "text/plain": [
       "list"
      ]
     },
     "execution_count": 12,
     "metadata": {},
     "output_type": "execute_result"
    }
   ],
   "source": [
    "type(names)"
   ]
  },
  {
   "cell_type": "code",
   "execution_count": 14,
   "metadata": {},
   "outputs": [
    {
     "name": "stdout",
     "output_type": "stream",
     "text": [
      "ALLDOCUBE KNote X Pro Tablet Laptop Intel Gemini Lake N4100 13.3 Inch 1080P FHD Screen Windows 10 8GB RAM 128GB ROM - Grey\n",
      "Keyboard for One Netbook ONEXPLAYER Game Console Tablet PC Laptop\n",
      "Carrying Case Bag for One Netbook ONEXPLAYER Game Console Tablet PC Laptop\n",
      "Tronsmart Glary Gaming Headset 7.1 Virtual Surround Sound Stereo Sound with Colorful LED Lighting USB Interface Mic for PC\n",
      "PU Leather Protective Case for 8.4\" One Netbook One Mix 3 / 3S Yoga Pocket Laptop - Black\n",
      "Protective Case for 8.9 Inch Magic-Ben MAG1 Pocket Laptop - Black\n",
      "Portable Foldable Laptop Cooling Stand 4 Height Adjustable Non-slip Silicone For 11-17 Inch Notebook Tablet - White\n",
      "Original Charger for One Netbook One Mix 2S Yoga Pocket Laptop - Black\n",
      "One Netbook A1 360 Degree 2 in 1 Pocket Laptop Intel M3-8100Y 8GB RAM 512GB PCIe SSD + Original Stylus Pen + Protective Case\n",
      "Logitech C270 HD Vid 720P Webcam With MIC Micphone Video Calling for Android TV Box/PC/\n",
      "Logitech G502 HERO Proteus Spectrum Wired Adaptive Gaming Mouse 12000DPI USB Computer Mouse For PC / - Black\n",
      "Logitech Pebble Wireless Mouse Bluetooth 2.4GHz Mute Dual Modes Portable For PC - White\n",
      "Xiaomi Wowstick 1F + Electric Screwdriver Bits Toolkit for Reparing Phone Toy Laptop Digital Product - Gray\n",
      "Logitech G302 Daedalus Prime MOBA Wired Optical Gaming Mouse Lightweight Design 4000 DPI For PC / - Black\n",
      "PU Leather Protective Case for 7\" One Netbook One Mix 2 / 2S Yoga Pocket Laptop - Black\n",
      "Xiaomi 23L Sports Leisure Backpack Waterproof 15.6-inch Laptop Bag Outdoor Travel Rucksack - Gray\n",
      "Xiaomi 23L Sports Leisure Backpack Waterproof 15.6-inch Laptop Bag Outdoor Travel Rucksack - Black\n",
      "Xiaomi Wireless Mouse 2 Mute Portable Ultra-thin 2.4G Wireless 1000DPI For PC -White\n",
      "Logitech G300S Wired Gaming Mouse 9 Programmable Keys 2500DPI Ergonomic Shape For PC / - Black\n",
      "Logitech Pebble Wireless Mouse Bluetooth 2.4GHz Mute Dual Modes Portable For PC - Black\n",
      "Xiaomi Portable Mouse Mi Mouse Bluetooth 4.0 / RF 2.4GHz Wireless Dual Modes Connection for PC - Silver\n",
      "PU Leather Protective Case for 8.4\" One Netbook One Mix 3 Pro Yoga Pocket Laptop - Black\n",
      "USB Converter Hub 3*USB + 1*SD + 1*TF For Laptop Notebooks - Black\n",
      "Maxmemory X200 64GB SATA3 High Speed SSD 2.5 Inch Solid State Drive Hard Disk For PC - Black\n",
      "HXSJ S3 1080P HD Webcam 5MP Auto Focus Built-in Microphone Adjustable Angle Support Video Conference For Desktop PC / - Black\n",
      "HXSJ S90 720P HD Webcam USB Compatible Adjustable Angle Automatic Color Correction Built-in Sound-absorbing Microphone For Desktop TV - Black\n",
      "Cenava PA156G Laptop Intel Celeron J4125 15.6 Inch 1920*1080 Windows 10 8GB RAM 256GB SSD - Silver\n",
      "Cenava PA156G Laptop Intel Celeron J4125 15.6 Inch 1920*1080 Windows 10 8GB RAM 512GB SSD - Silver\n",
      "Xiaomi UREVO 25L Multi-functional Backpack Waterproof 15-inch Laptop Bag Outdoor Travel Rucksack From Xiaomi Youpin- Black\n",
      "Cenava PA156G Laptop Intel Celeron J4125 15.6 Inch 1920*1080 Windows 10 8GB RAM 128GB SSD - Silver\n",
      "One Netbook A1 360 Degree 2 in 1 Pocket Laptop Intel M3-8100Y 8GB RAM 512GB PCIe SSD + Original Stylus Pen\n",
      "One Netbook A1 360 Degree 2 in 1 Pocket Laptop Intel M3-8100Y 8GB RAM 256GB PCIe SSD + Original Stylus Pen\n",
      "One Netbook OneGx1 Gaming Laptop 7-inch 1920x1200 i5-10210Y 16GB RAM 512GB SSD WiFi 6 Windows 10 5G Version - Blue\n",
      "One Netbook 4 Platinum Laptop 360 Degree YOGA 10.1\" Touch Screen Intel Core i7-1160G7 16GB DDR4 RAM 1TB PCI-E SSD WiFi 6 Windows 10 Fingerprint - Black\n",
      "One Netbook 4 Platinum Laptop 360 Degree YOGA 10.1\" Touch Screen Intel Core i7-1160G7 16GB DDR4 RAM 512GB PCI-E SSD WiFi 6 Windows 10 Fingerprint - Black\n",
      "One Netbook 4 Laptop 360 Degree YOGA 10.1\" Touch Screen Intel 11th Gen Core i5-1130G7 16GB DDR4 RAM 512GB PCI-E SSD WiFi 6 Windows 10 Fingerprint - Black\n",
      "One Netbook ONEXPLAYER Game Console PC 8.4 Inch Pocket Computer i7-1195G7 16G RAM 1TB SSD IPS Touch Screen Windows 10 US Plug\n",
      "HXSJ S20 480P HD Webcam 12 Million Pixels Manually Focus Built-in Microphone Adjustable Angle For Desktop Computer - Black\n",
      "ASHU H800 1080P HD Webcam Built-In Microphone Auto Color Correction Support CC2000 TARGET ICQ For Desktop - Black\n",
      "One Netbook ONEXPLAYER Game Console PC 8.4 Inch Pocket Computer i7-1195G7 16G RAM 1TB SSD IPS Touch Screen Windows 10 EU Plug\n"
     ]
    }
   ],
   "source": [
    "for n in names:\n",
    "    print(n.text)"
   ]
  },
  {
   "cell_type": "code",
   "execution_count": 16,
   "metadata": {},
   "outputs": [
    {
     "name": "stdout",
     "output_type": "stream",
     "text": [
      "ALLDOCUBE KNote X Pro Tablet Laptop Intel Gemini Lake N4100 13.3 Inch 1080P FHD Screen Windows 10 8GB RAM 128GB ROM - Grey\n"
     ]
    }
   ],
   "source": [
    "#print specific item from the list\n",
    "print(names[0].text)"
   ]
  },
  {
   "cell_type": "markdown",
   "metadata": {},
   "source": [
    "##### ID - Locator"
   ]
  },
  {
   "cell_type": "code",
   "execution_count": 22,
   "metadata": {},
   "outputs": [],
   "source": [
    "driver=webdriver.Chrome('C:\\webdrivers\\chromedriver.exe')\n",
    "driver.get(website_2)\n",
    "time.sleep(1)\n",
    "search=driver.find_element_by_id('search_query_top')\n",
    "#click\n",
    "search.click()\n",
    "time.sleep(1)\n",
    "search.send_keys('hellohello')"
   ]
  },
  {
   "cell_type": "code",
   "execution_count": null,
   "metadata": {},
   "outputs": [],
   "source": []
  },
  {
   "cell_type": "code",
   "execution_count": null,
   "metadata": {},
   "outputs": [],
   "source": []
  },
  {
   "cell_type": "markdown",
   "metadata": {},
   "source": [
    "##### Name - Locator"
   ]
  },
  {
   "cell_type": "code",
   "execution_count": null,
   "metadata": {},
   "outputs": [],
   "source": []
  },
  {
   "cell_type": "code",
   "execution_count": null,
   "metadata": {},
   "outputs": [],
   "source": []
  },
  {
   "cell_type": "code",
   "execution_count": null,
   "metadata": {},
   "outputs": [],
   "source": []
  },
  {
   "cell_type": "markdown",
   "metadata": {},
   "source": [
    "##### LinkText - Locator"
   ]
  },
  {
   "cell_type": "code",
   "execution_count": null,
   "metadata": {},
   "outputs": [],
   "source": []
  },
  {
   "cell_type": "code",
   "execution_count": null,
   "metadata": {},
   "outputs": [],
   "source": []
  },
  {
   "cell_type": "code",
   "execution_count": null,
   "metadata": {},
   "outputs": [],
   "source": []
  },
  {
   "cell_type": "markdown",
   "metadata": {},
   "source": [
    "##### Partial LinkText - Locator"
   ]
  },
  {
   "cell_type": "code",
   "execution_count": null,
   "metadata": {},
   "outputs": [],
   "source": []
  },
  {
   "cell_type": "code",
   "execution_count": null,
   "metadata": {},
   "outputs": [],
   "source": []
  },
  {
   "cell_type": "code",
   "execution_count": null,
   "metadata": {},
   "outputs": [],
   "source": []
  },
  {
   "cell_type": "markdown",
   "metadata": {},
   "source": [
    "### Part 3 - Different ways to use Locators "
   ]
  },
  {
   "cell_type": "code",
   "execution_count": null,
   "metadata": {},
   "outputs": [],
   "source": []
  },
  {
   "cell_type": "code",
   "execution_count": null,
   "metadata": {},
   "outputs": [],
   "source": []
  },
  {
   "cell_type": "code",
   "execution_count": null,
   "metadata": {},
   "outputs": [],
   "source": []
  },
  {
   "cell_type": "markdown",
   "metadata": {},
   "source": [
    "### Part 4 - Selenium in Action"
   ]
  },
  {
   "cell_type": "code",
   "execution_count": null,
   "metadata": {},
   "outputs": [],
   "source": []
  },
  {
   "cell_type": "code",
   "execution_count": null,
   "metadata": {},
   "outputs": [],
   "source": []
  },
  {
   "cell_type": "code",
   "execution_count": null,
   "metadata": {},
   "outputs": [],
   "source": []
  },
  {
   "cell_type": "code",
   "execution_count": null,
   "metadata": {},
   "outputs": [],
   "source": []
  },
  {
   "cell_type": "markdown",
   "metadata": {},
   "source": [
    "### Optional : Run everything in one Step - Headless "
   ]
  },
  {
   "cell_type": "code",
   "execution_count": null,
   "metadata": {},
   "outputs": [],
   "source": []
  }
 ],
 "metadata": {
  "kernelspec": {
   "display_name": "Python 3",
   "language": "python",
   "name": "python3"
  },
  "language_info": {
   "codemirror_mode": {
    "name": "ipython",
    "version": 3
   },
   "file_extension": ".py",
   "mimetype": "text/x-python",
   "name": "python",
   "nbconvert_exporter": "python",
   "pygments_lexer": "ipython3",
   "version": "3.8.8"
  }
 },
 "nbformat": 4,
 "nbformat_minor": 4
}
